{
 "cells": [
  {
   "cell_type": "code",
   "execution_count": null,
   "metadata": {
    "collapsed": true
   },
   "outputs": [],
   "source": [
    "fr1 = open('/home/data/cleandayone','r')#cleandayone是预处理后的数据\n",
    "fw1 = open('/data/locus/data_0_1_3.csv','w') #存储第一天0：00~1：00的数据，即timenum在1~6间的数据\n",
    "for line in fr1:\n",
    "    item = [k.strip() for k in line.split(',')]\n",
    "    if int(item[1])>=1 and int(item[1])<=5:\n",
    "        fw1.write(item[0]+','+item[1]+','+item[2]+','+item[3]+'\\n')"
   ]
  },
  {
   "cell_type": "code",
   "execution_count": null,
   "metadata": {
    "collapsed": true
   },
   "outputs": [],
   "source": [
    "#这个程序要运行很多次，分别生成一天24小时每一小时的数据，同时要生成一周内每天的凌晨1点到两点的其次数据。"
   ]
  },
  {
   "cell_type": "code",
   "execution_count": null,
   "metadata": {
    "collapsed": true
   },
   "outputs": [],
   "source": [
    "fr2 = open('/data/locus/data_0_1_3.csv','r')\n",
    "id_dict = []\n",
    "data_dict = {}\n",
    "index = 1\n",
    "for line in fr2:\n",
    "    item = [k.strip() for k in line.split(',')]\n",
    "    if item[0] not in data_dict:\n",
    "        data_dict[item[0]] = item[1:4]\n",
    "    else:\n",
    "        data_dict[item[0]].extend(item[1:4]) "
   ]
  },
  {
   "cell_type": "code",
   "execution_count": null,
   "metadata": {
    "collapsed": true
   },
   "outputs": [],
   "source": [
    "loc_dict = {}\n",
    "for key in data_dict:\n",
    "    lati = data_dict[key][1::3]\n",
    "    longi = data_dict[key][2::3]\n",
    "    length = len(lati)\n",
    "    lati_float = [float(k) for k in lati]\n",
    "    longi_float = [float(k) for k in longi]\n",
    "    latitude = float('%.3f' %(sum(lati_float)/length))\n",
    "    longitude = float('%.3f' %(sum(longi_float)/length))\n",
    "    \n",
    "    loc_dict[key] = (latitude,longitude)"
   ]
  },
  {
   "cell_type": "code",
   "execution_count": null,
   "metadata": {
    "collapsed": true
   },
   "outputs": [],
   "source": [
    "fw2 = open('/data/locus/data_feature_0_1_3.csv','w') #存储第一天0：00~1：00的数据，每行三项分别代表id和特征纬度、经度\n",
    "for key in loc_dict:\n",
    "    fw2.write(str(key)+','+str(loc_dict[key][0])+','+str(loc_dict[key][1])+'\\n')"
   ]
  },
  {
   "cell_type": "code",
   "execution_count": null,
   "metadata": {
    "collapsed": true
   },
   "outputs": [],
   "source": [
    "fr3 = open('/data/locus/data_feature_0_1_3.csv','r') \n",
    "latitude = []\n",
    "longitude = []\n",
    "for line in fr3.readlines():\n",
    "    item = [k.strip() for k in line.split(',')]\n",
    "    latitude.append(float(item[1]))\n",
    "    longitude.append(float(item[2]))"
   ]
  },
  {
   "cell_type": "code",
   "execution_count": null,
   "metadata": {
    "collapsed": true
   },
   "outputs": [],
   "source": [
    "print len(latitude)"
   ]
  }
 ],
 "metadata": {
  "anaconda-cloud": {},
  "kernelspec": {
   "display_name": "Python [conda root]",
   "language": "python",
   "name": "conda-root-py"
  },
  "language_info": {
   "codemirror_mode": {
    "name": "ipython",
    "version": 2
   },
   "file_extension": ".py",
   "mimetype": "text/x-python",
   "name": "python",
   "nbconvert_exporter": "python",
   "pygments_lexer": "ipython2",
   "version": "2.7.12"
  }
 },
 "nbformat": 4,
 "nbformat_minor": 1
}
