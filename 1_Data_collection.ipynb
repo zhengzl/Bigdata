{
 "cells": [
  {
   "cell_type": "code",
   "execution_count": 2,
   "metadata": {
    "collapsed": false
   },
   "outputs": [
    {
     "name": "stdout",
     "output_type": "stream",
     "text": [
      "[2506, 10131, 11385, 16708, 14831, 24205, 13456, 25257, 3259, 35814, 29510, 33260, 28156, 3913, 22305, 5474, 1212, 11849, 64387, 11999, 39232, 1540, 29264, 39088, 31008, 13563, 30438, 35926, 38962, 23950, 16400, 26433]\n"
     ]
    }
   ],
   "source": [
    "fr1 = open('/data/locus/clean_idtimes_sorted.csv','r')\n",
    "i = 1\n",
    "id_sort5=[]\n",
    "for line in fr1:   \n",
    "    if i%5 != 0 and i<=40:\n",
    "        id_sort5.append(int([k.strip() for k in line.split(',')][0]))\n",
    "    i = i+1"
   ]
  },
  {
   "cell_type": "code",
   "execution_count": 3,
   "metadata": {
    "collapsed": false
   },
   "outputs": [],
   "source": [
    "fr2 = open('/home/data/cleandata_by_order.csv','r') #打开清理后的数据文件\n",
    "fw3 = open('/data/locus/data_1st','w') #存储出现频率第1的id的数据（id列祛掉）\n",
    "fw4 = open('/data/locus/data_2st','w') \n",
    "fw5 = open('/data/locus/data_3st','w') \n",
    "fw6 = open('/data/locus/data_4st','w') \n",
    "fw7 = open('/data/locus/data_6st','w') \n",
    "fw8 = open('/data/locus/data_7st','w') \n",
    "fw9 = open('/data/locus/data_8st','w')\n",
    "fw10 = open('/data/locus/data_9st','w') \n",
    "fw11 = open('/data/locus/data_11st','w') \n",
    "fw12 = open('/data/locus/data_12st','w') \n",
    "\n",
    "fw13 = open('/data/locus/data_13st','w') \n",
    "fw14 = open('/data/locus/data_14st','w') \n",
    "fw15 = open('/data/locus/data_16st','w') \n",
    "fw16 = open('/data/locus/data_17st','w') \n",
    "fw17 = open('/data/locus/data_18st','w') \n",
    "fw18 = open('/data/locus/data_19st','w') \n",
    "fw19 = open('/data/locus/data_21st','w')\n",
    "fw20 = open('/data/locus/data_22st','w') \n",
    "fw21 = open('/data/locus/data_23st','w') \n",
    "fw22 = open('/data/locus/data_24st','w') \n",
    "fw23 = open('/data/locus/data_26st','w') \n",
    "fw24 = open('/data/locus/data_27st','w') \n",
    "fw25 = open('/data/locus/data_28st','w') \n",
    "fw26 = open('/data/locus/data_29st','w') \n",
    "fw27 = open('/data/locus/data_31st','w') \n",
    "fw28 = open('/data/locus/data_32st','w') \n",
    "fw29 = open('/data/locus/data_33st','w')\n",
    "fw30 = open('/data/locus/data_34st','w') \n",
    "fw31 = open('/data/locus/data_36st','w') \n",
    "fw32 = open('/data/locus/data_37st','w')\n",
    "\n",
    "while 1:\n",
    "    lines = fr2.readlines(10000)\n",
    "    if not lines:\n",
    "        break\n",
    "    for line in lines:\n",
    "        item = [k.strip() for k in line.split(',')]\n",
    "        if int(item[0]) == id_sort5[0]:\n",
    "            fw3.write(item[1]+','+item[2]+','+item[3]+'\\n')\n",
    "        if int(item[0]) == id_sort5[1]:\n",
    "            fw4.write(item[1]+','+item[2]+','+item[3]+'\\n')\n",
    "        if int(item[0]) == id_sort5[2]:\n",
    "            fw5.write(item[1]+','+item[2]+','+item[3]+'\\n')\n",
    "        if int(item[0]) == id_sort5[3]:\n",
    "            fw6.write(item[1]+','+item[2]+','+item[3]+'\\n')\n",
    "        if int(item[0]) == id_sort5[4]:\n",
    "            fw7.write(item[1]+','+item[2]+','+item[3]+'\\n')\n",
    "        if int(item[0]) == id_sort5[5]:\n",
    "            fw8.write(item[1]+','+item[2]+','+item[3]+'\\n')\n",
    "        if int(item[0]) == id_sort5[6]:\n",
    "            fw9.write(item[1]+','+item[2]+','+item[3]+'\\n')\n",
    "        if int(item[0]) == id_sort5[7]:\n",
    "            fw10.write(item[1]+','+item[2]+','+item[3]+'\\n')\n",
    "        if int(item[0]) == id_sort5[8]:\n",
    "            fw11.write(item[1]+','+item[2]+','+item[3]+'\\n')\n",
    "        if int(item[0]) == id_sort5[9]:\n",
    "            fw12.write(item[1]+','+item[2]+','+item[3]+'\\n')\n",
    "        if int(item[0]) == id_sort5[10]:\n",
    "            fw13.write(item[1]+','+item[2]+','+item[3]+'\\n')\n",
    "        if int(item[0]) == id_sort5[11]:\n",
    "            fw14.write(item[1]+','+item[2]+','+item[3]+'\\n')\n",
    "        if int(item[0]) == id_sort5[12]:\n",
    "            fw15.write(item[1]+','+item[2]+','+item[3]+'\\n')\n",
    "        if int(item[0]) == id_sort5[13]:\n",
    "            fw16.write(item[1]+','+item[2]+','+item[3]+'\\n')\n",
    "        if int(item[0]) == id_sort5[14]:\n",
    "            fw17.write(item[1]+','+item[2]+','+item[3]+'\\n')\n",
    "        if int(item[0]) == id_sort5[15]:\n",
    "            fw18.write(item[1]+','+item[2]+','+item[3]+'\\n')\n",
    "        if int(item[0]) == id_sort5[16]:\n",
    "            fw19.write(item[1]+','+item[2]+','+item[3]+'\\n')\n",
    "        if int(item[0]) == id_sort5[17]:\n",
    "            fw20.write(item[1]+','+item[2]+','+item[3]+'\\n')\n",
    "        if int(item[0]) == id_sort5[18]:\n",
    "            fw21.write(item[1]+','+item[2]+','+item[3]+'\\n')\n",
    "        if int(item[0]) == id_sort5[19]:\n",
    "            fw22.write(item[1]+','+item[2]+','+item[3]+'\\n')\n",
    "        if int(item[0]) == id_sort5[20]:\n",
    "            fw23.write(item[1]+','+item[2]+','+item[3]+'\\n')\n",
    "        if int(item[0]) == id_sort5[21]:\n",
    "            fw24.write(item[1]+','+item[2]+','+item[3]+'\\n')\n",
    "        if int(item[0]) == id_sort5[22]:\n",
    "            fw25.write(item[1]+','+item[2]+','+item[3]+'\\n')\n",
    "        if int(item[0]) == id_sort5[23]:\n",
    "            fw26.write(item[1]+','+item[2]+','+item[3]+'\\n')\n",
    "        if int(item[0]) == id_sort5[24]:\n",
    "            fw27.write(item[1]+','+item[2]+','+item[3]+'\\n')\n",
    "        if int(item[0]) == id_sort5[25]:\n",
    "            fw28.write(item[1]+','+item[2]+','+item[3]+'\\n')\n",
    "        if int(item[0]) == id_sort5[26]:\n",
    "            fw29.write(item[1]+','+item[2]+','+item[3]+'\\n')\n",
    "        if int(item[0]) == id_sort5[27]:\n",
    "            fw30.write(item[1]+','+item[2]+','+item[3]+'\\n')\n",
    "        if int(item[0]) == id_sort5[28]:\n",
    "            fw31.write(item[1]+','+item[2]+','+item[3]+'\\n')\n",
    "        if int(item[0]) == id_sort5[29]:\n",
    "            fw32.write(item[1]+','+item[2]+','+item[3]+'\\n')"
   ]
  }
 ],
 "metadata": {
  "anaconda-cloud": {},
  "kernelspec": {
   "display_name": "Python [default]",
   "language": "python",
   "name": "python2"
  },
  "language_info": {
   "codemirror_mode": {
    "name": "ipython",
    "version": 2
   },
   "file_extension": ".py",
   "mimetype": "text/x-python",
   "name": "python",
   "nbconvert_exporter": "python",
   "pygments_lexer": "ipython2",
   "version": "2.7.12"
  }
 },
 "nbformat": 4,
 "nbformat_minor": 1
}


