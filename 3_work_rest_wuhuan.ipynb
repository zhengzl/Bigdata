{
 "cells": [
  {
   "cell_type": "code",
   "execution_count": null,
   "metadata": {
    "collapsed": true
   },
   "outputs": [],
   "source": [
    "import pandas as pd\n",
    "import numpy\n",
    "import sklearn\n",
    "import scipy\n",
    "from sklearn.cluster import DBSCAN\n",
    "from scipy.spatial.distance import pdist, squareform\n",
    "from math import radians, cos, sin, asin, sqrt \n",
    "from scipy.cluster.vq import whiten\n",
    "from scipy.cluster.vq import *  \n",
    "import matplotlib\n",
    "import matplotlib.pyplot as pltpython"
   ]
  },
  {
   "cell_type": "code",
   "execution_count": null,
   "metadata": {
    "collapsed": true
   },
   "outputs": [],
   "source": [
    "from bokeh.io import output_notebook, show#用bokeh画图\n",
    "output_notebook()"
   ]
  },
  {
   "cell_type": "code",
   "execution_count": null,
   "metadata": {
    "collapsed": true
   },
   "outputs": [],
   "source": [
    "import pandas as pd\n",
    "import numpy as np\n",
    "\n",
    "def coordinate(ls):# 将经纬度换算成地图上的坐标，来用bokeh画图\n",
    "    k = 6378137\n",
    "    ls[0] = ls[0] * (k * np.pi/180.0)\n",
    "    ls[1] = np.log(np.tan((90 + ls[1]) * np.pi/360.0)) * k\n",
    "    return ls\n",
    "\n",
    "upperleft =[116.0, 40.4]\n",
    "bottomright = [117.0, 39.6]\n",
    "\n",
    "upperleft = coordinate(upperleft)\n",
    "bottomright = coordinate(bottomright)\n",
    "print upperleft\n",
    "print bottomright"
   ]
  },
  {
   "cell_type": "code",
   "execution_count": null,
   "metadata": {
    "collapsed": true
   },
   "outputs": [],
   "source": [
    "rom bokeh.plotting import figure #生成北京市背景图\n",
    "from bokeh.tile_providers import WMTSTileSource\n",
    "\n",
    "China = x_range,y_range = ((upperleft[0],bottomright[0]), (bottomright[1],upperleft[1]))\n",
    "fig = figure(tools='pan, wheel_zoom,hover', x_range=x_range, y_range=y_range, width = 950, height = 580)\n",
    "fig.axis.visible = True\n",
    "url = 'http://c.tile.openstreetmap.org/{Z}/{X}/{Y}.png'\n",
    "attribution = \"\"\n",
    "fig.add_tile(WMTSTileSource(url=url, attribution=attribution))"
   ]
  },
  {
   "cell_type": "code",
   "execution_count": null,
   "metadata": {
    "collapsed": true
   },
   "outputs": [],
   "source": [
    "rom bokeh.plotting import figure #生成北京市背景图\n",
    "from bokeh.tile_providers import WMTSTileSource\n",
    "\n",
    "China = x_range,y_range = ((upperleft[0],bottomright[0]), (bottomright[1],upperleft[1]))\n",
    "fig = figure(tools='pan, wheel_zoom,hover', x_range=x_range, y_range=y_range, width = 950, height = 580)\n",
    "fig.axis.visible = True\n",
    "url = 'http://c.tile.openstreetmap.org/{Z}/{X}/{Y}.png'\n",
    "attribution = \"\"\n",
    "fig.add_tile(WMTSTileSource(url=url, attribution=attribution))"
   ]
  },
  {
   "cell_type": "code",
   "execution_count": null,
   "metadata": {
    "collapsed": true
   },
   "outputs": [],
   "source": [
    "fr3 = open('/data/locus/data_feature_0_1_3.csv','r') #导入用于聚类的数据，这些数据用kmeans算法聚成6类。\n",
    "user_id = []\n",
    "latitude = []\n",
    "longitude = []\n",
    "for line in fr3.readlines():\n",
    "    item = [k.strip() for k in line.split(',')]\n",
    "    if float(item[1])>39.820 and float(item[1])<40.001 and float(item[2])>116.238 and float(item[2])< 116.513: #判断五环数据\n",
    "        user_id.append(int(item[0]))\n",
    "        latitude.append(float(item[1]))\n",
    "        longitude.append(float(item[2]))\n",
    "lati = latitude\n",
    "longi = longitude\n",
    "X = pd.DataFrame ({\"lat\":lati,\"lng\":longi})\n",
    "xy=numpy.array(X) #xy为用来聚类的所选用户的数据"
   ]
  },
  {
   "cell_type": "code",
   "execution_count": null,
   "metadata": {
    "collapsed": true
   },
   "outputs": [],
   "source": [
    "res, idx = kmeans2(xy, 6, iter=40, minit='points')  #聚类，输入：xy必须是个数组，6指的是聚类数，可改，iter是迭代次数， 输出：res 放的是经纬度，idx存的数表示原来的点在哪一类中"
   ]
  },
  {
   "cell_type": "code",
   "execution_count": null,
   "metadata": {
    "collapsed": true
   },
   "outputs": [],
   "source": [
    "import pandas as pd\n",
    "import numpy as np\n",
    "\"\"\"plot blue area\"\"\"#画出来k-means聚类效果\n",
    "def wgs84_to_web_mercator(df, lon=\"lon\", lat=\"lat\"):# 将经纬度换算成地图上的坐标，来用bokeh画图\n",
    "    k = 6378137\n",
    "    df[\"x\"] = df[lon] * (k * np.pi/180.0)\n",
    "    df[\"y\"] = np.log(np.tan((90 + df[lat]) * np.pi/360.0)) * k\n",
    "    return df\n",
    "lon = []#lon...lon5,lat...lat5分别用来记录六类的经纬度\n",
    "lat = []\n",
    "lon1 = []\n",
    "lat1 = []\n",
    "lon2 = []\n",
    "lat2 = []\n",
    "lon3 = []\n",
    "lat3 = []\n",
    "lon4 = []\n",
    "lat4 = []\n",
    "lon5 = []\n",
    "lat5 = []\n",
    "numSamples, dim = X.shape\n",
    "for i in xrange(numSamples):  \n",
    "    markIndex = idx[i]\n",
    "    x=float(X.values[i][1])\n",
    "    y=float(X.values[i][0])\n",
    "    if markIndex == 0 :\n",
    "        lon.append(x)\n",
    "        lat.append(y)\n",
    "    elif markIndex == 1 :\n",
    "        lon1.append(x)\n",
    "        lat1.append(y) \n",
    "    elif markIndex == 2 :\n",
    "        lon2.append(x)\n",
    "        lat2.append(y)\n",
    "    elif markIndex == 3 :\n",
    "        lon3.append(x)\n",
    "        lat3.append(y)\n",
    "    elif markIndex == 4 :\n",
    "        lon4.append(x)\n",
    "        lat4.append(y)\n",
    "    else :\n",
    "        lon5.append(x)\n",
    "        lat5.append(y)\n",
    "        \n",
    "df = pd.DataFrame(dict(lon=lon,lat=lat))#将lon...lon5,lat...lat5分别转化成地图上坐标df...df5    \n",
    "wgs84_to_web_mercator(df)\n",
    "df1 = pd.DataFrame(dict(lon=lon1,lat=lat1))    \n",
    "wgs84_to_web_mercator(df1)\n",
    "df2 = pd.DataFrame(dict(lon=lon2,lat=lat2))    \n",
    "wgs84_to_web_mercator(df2)\n",
    "df3 = pd.DataFrame(dict(lon=lon3,lat=lat3))    \n",
    "wgs84_to_web_mercator(df3)\n",
    "df4 = pd.DataFrame(dict(lon=lon4,lat=lat4))    \n",
    "wgs84_to_web_mercator(df4)\n",
    "df5 = pd.DataFrame(dict(lon=lon5,lat=lat5))    \n",
    "wgs84_to_web_mercator(df5)"
   ]
  },
  {
   "cell_type": "code",
   "execution_count": null,
   "metadata": {
    "collapsed": true
   },
   "outputs": [],
   "source": [
    "fig.circle(x=df['x'], y=df['y'],fill_color='blue',line_alpha=0.1, size=5)#绘制聚类图\n",
    "fig.circle(x=df1['x'], y=df1['y'],fill_color='red',line_alpha=0.1, size=5)\n",
    "fig.circle(x=df2['x'], y=df2['y'],fill_color='black',line_alpha=0.1, size=5)\n",
    "fig.circle(x=df3['x'], y=df3['y'],fill_color='white',size=5)\n",
    "fig.circle(x=df4['x'], y=df4['y'],fill_color='yellow', line_alpha=0.1,size=5)\n",
    "fig.circle(x=df5['x'], y=df5['y'],fill_color='purple', line_alpha=0.1,size=5)\n",
    "show(fig)"
   ]
  },
  {
   "cell_type": "code",
   "execution_count": null,
   "metadata": {
    "collapsed": true
   },
   "outputs": [],
   "source": [
    "numSamples, dim = X.shape#用聚类好的数据来给没有聚类好的数据进行分类\n",
    "#没有分类好的数据中，如果用户的id属于已经聚类好的数据中的某一类，那么他就也属于这一类，否则属于7（哪一类都不属于），此处用字典来处理\n",
    "rest_dict = {}\n",
    "for i in xrange(numSamples):\n",
    "    if user_id[i] not in rest_dict:\n",
    "        rest_dict[user_id[i]]=[X.values[i][1],X.values[i][0],idx[i]]\n",
    "other_dict = {}\n",
    "fr4 = open('/data/locus/data_feature_15_16_3.csv','r')\n",
    "for line in fr4.readlines():\n",
    "    item = [k.strip() for k in line.split(',')]\n",
    "    if int(item[0]) not in other_dict:\n",
    "        other_dict[int(item[0])] =[float(item[2]),float(item[1])]"
   ]
  },
  {
   "cell_type": "code",
   "execution_count": null,
   "metadata": {
    "collapsed": true
   },
   "outputs": [],
   "source": [
    "for (key_1 ,value_1) in other_dict.items() :\n",
    "    if key_1 in rest_dict.keys():\n",
    "        value_1.append(rest_dict[key_1][2])\n",
    "    else :\n",
    "        value_1.append(7)"
   ]
  },
  {
   "cell_type": "code",
   "execution_count": null,
   "metadata": {
    "collapsed": true
   },
   "outputs": [],
   "source": [
    "import pandas as pd\n",
    "import numpy as np\n",
    "#画出来的是新的数据的分布\n",
    "def wgs84_to_web_mercator(df, lon=\"lon\", lat=\"lat\"):# 将经纬度换算成地图上的坐标，来用bokeh画图\n",
    "    k = 6378137\n",
    "    df[\"x\"] = df[lon] * (k * np.pi/180.0)\n",
    "    df[\"y\"] = np.log(np.tan((90 + df[lat]) * np.pi/360.0)) * k\n",
    "    return df\n",
    "other_lon = []#other_lon...other_lon5,other_lat...other_lat5分别用来记录新数据中的六类的经纬度，other_dis..other_dis5用于统计居住工作地点的距离\n",
    "other_lat = []\n",
    "other_lon1 = []\n",
    "other_lat1 = []\n",
    "other_lon2 = []\n",
    "other_lat2 = []\n",
    "other_lon3 = []\n",
    "other_lat3 = []\n",
    "other_lon4 = []\n",
    "other_lat4 = []\n",
    "other_lon5 = []\n",
    "other_lat5 = []\n",
    "other_dis=[]\n",
    "other_dis1=[]\n",
    "other_dis2=[]\n",
    "other_dis3=[]\n",
    "other_dis4=[]\n",
    "other_dis5=[]\n",
    "cnt= 0\n",
    "for (key_1,value_1) in other_dict.items():  \n",
    "    markIndex = int(other_dict[key_1][2])\n",
    "    x=float(other_dict[key_1][0])\n",
    "    y=float(other_dict[key_1][1])\n",
    "    if markIndex == 0 :\n",
    "        other_lon.append(x)\n",
    "        other_lat.append(y)\n",
    "    elif markIndex == 1 :\n",
    "        other_lon1.append(x)\n",
    "        other_lat1.append(y) \n",
    "    elif markIndex == 2 :\n",
    "        other_lon2.append(x)\n",
    "        other_lat2.append(y)\n",
    "    elif markIndex == 3 :\n",
    "        other_lon3.append(x)\n",
    "        other_lat3.append(y)\n",
    "    elif markIndex == 4 :\n",
    "        other_lon4.append(x)\n",
    "        other_lat4.append(y)\n",
    "    elif markIndex == 5:\n",
    "        other_lon5.append(x)\n",
    "        other_lat5.append(y)\n",
    "    else :\n",
    "        cnt =cnt + 1\n",
    "        \n",
    "other_df = pd.DataFrame(dict(lon=other_lon,lat=other_lat))#将other_lon...other_lon5,other_lat...other_lat5分别转化成地图上坐标other_df...other_df5 \n",
    "wgs84_to_web_mercator(other_df)\n",
    "other_df1 = pd.DataFrame(dict(lon=other_lon1,lat=other_lat1))    \n",
    "wgs84_to_web_mercator(other_df1)\n",
    "other_df2 = pd.DataFrame(dict(lon=other_lon2,lat=other_lat2))    \n",
    "wgs84_to_web_mercator(other_df2)\n",
    "other_df3 = pd.DataFrame(dict(lon=other_lon3,lat=other_lat3))    \n",
    "wgs84_to_web_mercator(other_df3)\n",
    "other_df4 = pd.DataFrame(dict(lon=other_lon4,lat=other_lat4))    \n",
    "wgs84_to_web_mercator(other_df4)\n",
    "other_df5 = pd.DataFrame(dict(lon=other_lon5,lat=other_lat5))    \n",
    "wgs84_to_web_mercator(other_df5)"
   ]
  },
  {
   "cell_type": "code",
   "execution_count": null,
   "metadata": {
    "collapsed": true
   },
   "outputs": [],
   "source": [
    "from bokeh.plotting import figure#生成新的北京市背景图\n",
    "from bokeh.tile_providers import WMTSTileSource\n",
    "\n",
    "China = x_range,y_range = ((upperleft[0],bottomright[0]), (bottomright[1],upperleft[1]))\n",
    "fig1 = figure(tools='pan, wheel_zoom,hover', x_range=x_range, y_range=y_range, width = 950, height = 580)\n",
    "fig1.axis.visible = True\n",
    "from bokeh.plotting import figure\n",
    "from bokeh.tile_providers import WMTSTileSource\n",
    "\n",
    "China = x_range,y_range = ((upperleft[0],bottomright[0]), (bottomright[1],upperleft[1]))\n",
    "fig1 = figure(tools='pan, wheel_zoom,hover', x_range=x_range, y_range=y_range, width = 950, height = 580)\n",
    "fig1.axis.visible = True"
   ]
  },
  {
   "cell_type": "code",
   "execution_count": null,
   "metadata": {
    "collapsed": true
   },
   "outputs": [],
   "source": [
    "fig1.circle(x=df1['x'], y=df1['y'],fill_color='red', size=5)#绘制其中一个类职住的分布图\n",
    "fig1.circle(x=other_df1['x'], y=other_df1['y'],fill_color='orange', size=5)\n",
    "show(fig1)"
   ]
  },
  {
   "cell_type": "code",
   "execution_count": null,
   "metadata": {
    "collapsed": true
   },
   "outputs": [],
   "source": [
    "area_dis1=sum(other_dis)/len(other_dis)#统计平均距离\n",
    "print area_dis1"
   ]
  },
  {
   "cell_type": "code",
   "execution_count": null,
   "metadata": {
    "collapsed": true
   },
   "outputs": [],
   "source": [
    "x = range(30)#绘制柱状图\n",
    "y = [0 for i in range(30)]\n",
    "for value in other_dis1:\n",
    "    if value >= 30:\n",
    "        value = 29.9\n",
    "    y[int(value)] += 1\n",
    "\n",
    "pltpython.bar(x,y, width = 1.0)\n",
    "pltpython.show()\n",
    "z=max(other_dis5)\n",
    "print z"
   ]
  }
 ],
 "metadata": {
  "kernelspec": {
   "display_name": "Python [conda root]",
   "language": "python",
   "name": "conda-root-py"
  },
  "language_info": {
   "codemirror_mode": {
    "name": "ipython",
    "version": 2
   },
   "file_extension": ".py",
   "mimetype": "text/x-python",
   "name": "python",
   "nbconvert_exporter": "python",
   "pygments_lexer": "ipython2",
   "version": "2.7.12"
  }
 },
 "nbformat": 4,
 "nbformat_minor": 1
}
