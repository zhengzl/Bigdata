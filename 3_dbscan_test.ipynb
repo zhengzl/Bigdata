{
 "cells": [
  {
   "cell_type": "code",
   "execution_count": null,
   "metadata": {
    "collapsed": true
   },
   "outputs": [],
   "source": [
    "import pandas as pd\n",
    "import numpy\n",
    "import sklearn\n",
    "import scipy\n",
    "from sklearn.cluster import DBSCAN\n",
    "from scipy.spatial.distance import pdist, squareform\n",
    "from math import radians, cos, sin, asin, sqrt \n",
    "from scipy.cluster.vq import whiten\n",
    "from scipy.cluster.vq import *  \n",
    "import matplotlib\n",
    "import matplotlib.pyplot as plt"
   ]
  },
  {
   "cell_type": "code",
   "execution_count": null,
   "metadata": {
    "collapsed": true
   },
   "outputs": [],
   "source": [
    "def haversine(lonlat1, lonlat2):#判断两点间的球面距离\n",
    "    lat1, lon1 = lonlat1\n",
    "    lat2, lon2 = lonlat2\n",
    "    lon1, lat1, lon2, lat2 = map(radians, [lon1, lat1, lon2, lat2])\n",
    "\n",
    "    dlon = lon2 - lon1\n",
    "    dlat = lat2 - lat1\n",
    "    a = sin(dlat / 2) ** 2 + cos(lat1) * cos(lat2) * sin(dlon / 2) ** 2\n",
    "    c = 2 * asin(sqrt(a))\n",
    "    r = 6378\n",
    "    return c * r"
   ]
  },
  {
   "cell_type": "code",
   "execution_count": null,
   "metadata": {
    "collapsed": true
   },
   "outputs": [],
   "source": [
    "fr3 = open('/data/locus/data_feature_1_2_2.csv','r') \n",
    "latitude = []\n",
    "longitude = []\n",
    "for line in fr3.readlines():\n",
    "    item = [k.strip() for k in line.split(',')]\n",
    "    latitude.append(float(item[1]))\n",
    "    longitude.append(float(item[2]))"
   ]
  },
  {
   "cell_type": "code",
   "execution_count": null,
   "metadata": {
    "collapsed": true
   },
   "outputs": [],
   "source": [
    "lati = latitude[1000:4000]#由于dbscan复杂度高，所以选取其中的3000个数据来测试。\n",
    "longi = longitude[1000:4000]\n",
    "X = pd.DataFrame ({\"lat\":lati,\"lng\":longi})\n",
    "distance_matrix = squareform(pdist(X, (lambda u, v: haversine(u, v))))\n",
    "db = DBSCAN(eps=3, min_samples=20, metric='precomputed')  \n",
    "y_db = db.fit_predict(distance_matrix)\n",
    "\n",
    "X['cluster'] = y_db\n",
    "\n",
    "results = {}\n",
    "for i in X.values:\n",
    "    if i[2] not in results.keys():\n",
    "         results[i[2]] = [[i[1], i[0]]]\n",
    "    else:\n",
    "        if results[i[2]]:\n",
    "            results[i[2]].append([i[1], i[0]])\n",
    "        else:\n",
    "            results[i[2]] = [[i[1], i[0]]]\n",
    "print (\"DBSCAN output:\", len(results), results.keys())"
   ]
  },
  {
   "cell_type": "code",
   "execution_count": null,
   "metadata": {
    "collapsed": true
   },
   "outputs": [],
   "source": [
    "    fig, ax = plt.subplots()\n",
    "    ax.scatter(X['lat'], X['lng'], c=X['cluster'])\n",
    "    plt.show()"
   ]
  }
 ],
 "metadata": {
  "anaconda-cloud": {},
  "kernelspec": {
   "display_name": "Python [conda root]",
   "language": "python",
   "name": "conda-root-py"
  },
  "language_info": {
   "codemirror_mode": {
    "name": "ipython",
    "version": 2
   },
   "file_extension": ".py",
   "mimetype": "text/x-python",
   "name": "python",
   "nbconvert_exporter": "python",
   "pygments_lexer": "ipython2",
   "version": "2.7.12"
  }
 },
 "nbformat": 4,
 "nbformat_minor": 1
}
