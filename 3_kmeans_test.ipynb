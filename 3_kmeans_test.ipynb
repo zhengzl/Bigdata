{
 "cells": [
  {
   "cell_type": "code",
   "execution_count": null,
   "metadata": {
    "collapsed": true
   },
   "outputs": [],
   "source": [
    "import pandas as pd\n",
    "import numpy\n",
    "import sklearn\n",
    "import scipy\n",
    "from sklearn.cluster import DBSCAN\n",
    "from scipy.spatial.distance import pdist, squareform\n",
    "from math import radians, cos, sin, asin, sqrt \n",
    "from scipy.cluster.vq import whiten\n",
    "from scipy.cluster.vq import *  \n",
    "import matplotlib\n",
    "import matplotlib.pyplot as plt"
   ]
  },
  {
   "cell_type": "code",
   "execution_count": null,
   "metadata": {
    "collapsed": true
   },
   "outputs": [],
   "source": [
    "fr3 = open('/data/locus/data_feature_9_10','r') \n",
    "latitude = []\n",
    "longitude = []\n",
    "for line in fr3.readlines():\n",
    "    item = [k.strip() for k in line.split(',')]\n",
    "    latitude.append(float(item[1]))\n",
    "    longitude.append(float(item[2]))\n",
    "lati = latitude[1000:2000]\n",
    "longi = longitude[1000:2000]\n",
    "X = pd.DataFrame ({\"lat\":lati,\"lng\":longi})"
   ]
  },
  {
   "cell_type": "code",
   "execution_count": null,
   "metadata": {
    "collapsed": true
   },
   "outputs": [],
   "source": [
    "xy=numpy.array(X) "
   ]
  },
  {
   "cell_type": "code",
   "execution_count": null,
   "metadata": {
    "collapsed": true
   },
   "outputs": [],
   "source": [
    "res, idx = kmeans2(xy,6, iter=60, minit='points')  #输入：xy必须是个数组，6指的是聚类数，可改，iter是迭代次数， 输出：res 放的是经纬度，idx存的数表示原来的点在哪一类中"
   ]
  },
  {
   "cell_type": "code",
   "execution_count": null,
   "metadata": {
    "collapsed": true
   },
   "outputs": [],
   "source": [
    "print res  #res出来的是纬度和经度"
   ]
  },
  {
   "cell_type": "code",
   "execution_count": null,
   "metadata": {
    "collapsed": true
   },
   "outputs": [],
   "source": [
    "print idx  #idx存的数表示原来的点在哪一类中"
   ]
  },
  {
   "cell_type": "code",
   "execution_count": null,
   "metadata": {
    "collapsed": true
   },
   "outputs": [],
   "source": [
    "  numSamples, dim = X.shape     \n",
    "    mark = ['or', 'ob', 'og', 'ok','oc','oy','om', '^r', '+r', 'sr', 'dr', '<r', 'pr']  \n",
    "      # draw all samples  \n",
    "    for i in xrange(numSamples):  \n",
    "        markIndex = idx[i]\n",
    "        plt.plot(X.values[i][0],X.values[i][1], mark[markIndex])  \n",
    "  \n",
    "    #mark = ['Dr', 'Db', 'Dg', 'Dk','Dc','Dy','Dm', '^b', '+b', 'sb', 'db', '<b', 'pb']  #这个是质心的位置，也可以不让它显示\n",
    "    # draw the centroids  \n",
    "    #for i in range(6):  \n",
    "    #    plt.plot(res[i, 0], res[i, 1], mark[i], markersize = 12)  \n",
    "    #ax.set_title('Scatter Plot')  \n",
    "    #设置X轴标签  \n",
    "    plt.xlabel('latitude')  \n",
    "    #设置Y轴标签  \n",
    "    plt.ylabel('longitude') \n",
    "    plt.show()  "
   ]
  },
  {
   "cell_type": "code",
   "execution_count": null,
   "metadata": {
    "collapsed": true
   },
   "outputs": [],
   "source": []
  },
  {
   "cell_type": "code",
   "execution_count": null,
   "metadata": {
    "collapsed": true
   },
   "outputs": [],
   "source": []
  }
 ],
 "metadata": {
  "anaconda-cloud": {},
  "kernelspec": {
   "display_name": "Python [conda root]",
   "language": "python",
   "name": "conda-root-py"
  },
  "language_info": {
   "codemirror_mode": {
    "name": "ipython",
    "version": 2
   },
   "file_extension": ".py",
   "mimetype": "text/x-python",
   "name": "python",
   "nbconvert_exporter": "python",
   "pygments_lexer": "ipython2",
   "version": "2.7.12"
  }
 },
 "nbformat": 4,
 "nbformat_minor": 1
}
